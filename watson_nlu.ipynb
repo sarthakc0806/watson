{
 "cells": [
  {
   "cell_type": "markdown",
   "metadata": {},
   "source": [
    "## Problem 3\n",
    "\n",
    "#### Please provide your code where noted"
   ]
  },
  {
   "cell_type": "code",
   "execution_count": 1,
   "metadata": {},
   "outputs": [
    {
     "name": "stdout",
     "output_type": "stream",
     "text": [
      "Requirement already satisfied: azure-storage-blob==1.5.0 in c:\\users\\sarth\\anaconda3\\lib\\site-packages (1.5.0)\n",
      "Requirement already satisfied: azure-storage-common~=1.4 in c:\\users\\sarth\\anaconda3\\lib\\site-packages (from azure-storage-blob==1.5.0) (1.4.2)\n",
      "Requirement already satisfied: azure-common>=1.1.5 in c:\\users\\sarth\\anaconda3\\lib\\site-packages (from azure-storage-blob==1.5.0) (1.1.28)\n",
      "Requirement already satisfied: cryptography in c:\\users\\sarth\\anaconda3\\lib\\site-packages (from azure-storage-common~=1.4->azure-storage-blob==1.5.0) (3.4.8)\n",
      "Requirement already satisfied: requests in c:\\users\\sarth\\anaconda3\\lib\\site-packages (from azure-storage-common~=1.4->azure-storage-blob==1.5.0) (2.26.0)\n",
      "Requirement already satisfied: python-dateutil in c:\\users\\sarth\\anaconda3\\lib\\site-packages (from azure-storage-common~=1.4->azure-storage-blob==1.5.0) (2.8.2)\n",
      "Requirement already satisfied: cffi>=1.12 in c:\\users\\sarth\\anaconda3\\lib\\site-packages (from cryptography->azure-storage-common~=1.4->azure-storage-blob==1.5.0) (1.14.6)\n",
      "Requirement already satisfied: pycparser in c:\\users\\sarth\\anaconda3\\lib\\site-packages (from cffi>=1.12->cryptography->azure-storage-common~=1.4->azure-storage-blob==1.5.0) (2.20)\n",
      "Requirement already satisfied: six>=1.5 in c:\\users\\sarth\\anaconda3\\lib\\site-packages (from python-dateutil->azure-storage-common~=1.4->azure-storage-blob==1.5.0) (1.16.0)\n",
      "Requirement already satisfied: charset-normalizer~=2.0.0 in c:\\users\\sarth\\anaconda3\\lib\\site-packages (from requests->azure-storage-common~=1.4->azure-storage-blob==1.5.0) (2.0.4)\n",
      "Requirement already satisfied: urllib3<1.27,>=1.21.1 in c:\\users\\sarth\\anaconda3\\lib\\site-packages (from requests->azure-storage-common~=1.4->azure-storage-blob==1.5.0) (1.26.7)\n",
      "Requirement already satisfied: idna<4,>=2.5 in c:\\users\\sarth\\anaconda3\\lib\\site-packages (from requests->azure-storage-common~=1.4->azure-storage-blob==1.5.0) (3.2)\n",
      "Requirement already satisfied: certifi>=2017.4.17 in c:\\users\\sarth\\anaconda3\\lib\\site-packages (from requests->azure-storage-common~=1.4->azure-storage-blob==1.5.0) (2021.10.8)\n"
     ]
    }
   ],
   "source": [
    "!pip install azure-storage-blob==1.5.0"
   ]
  },
  {
   "cell_type": "code",
   "execution_count": 2,
   "metadata": {},
   "outputs": [
    {
     "name": "stdout",
     "output_type": "stream",
     "text": [
      "sarthak_laptop\\sarth\n",
      "---started at :\n",
      "2022-04-11 14:15:39.796457\n",
      "\n",
      "List blobs in the container\n",
      "\t Blob name: High_data_public.csv\n",
      "\t Blob name: meter-readings-small.csv\n",
      "\t Blob name: plugshare-small.csv\n",
      "\t Blob name: true-sentiments.csv\n",
      "\n",
      "Downloading blob to C:\\Users\\sarth/Downloads\\plugshare-small_DOWNLOADED.csv\n",
      "Sample finished downloading. The application will exit.\n",
      "---completed at :\n",
      "2022-04-11 14:15:40.295894\n"
     ]
    }
   ],
   "source": [
    "!python example_azure_blob_download_student-2.py"
   ]
  },
  {
   "cell_type": "code",
   "execution_count": 3,
   "metadata": {},
   "outputs": [
    {
     "name": "stdout",
     "output_type": "stream",
     "text": [
      "sarthak_laptop\\sarth\n",
      "---started at :\n",
      "2022-04-11 14:16:20.041733\n",
      "\n",
      "List blobs in the container\n",
      "\t Blob name: High_data_public.csv\n",
      "\t Blob name: meter-readings-small.csv\n",
      "\t Blob name: plugshare-small.csv\n",
      "\t Blob name: true-sentiments.csv\n",
      "\n",
      "Downloading blob to C:\\Users\\sarth/Downloads\\true-sentiments_DOWNLOADED.csv\n",
      "Sample finished downloading. The application will exit.\n",
      "---completed at :\n",
      "2022-04-11 14:16:20.316049\n"
     ]
    }
   ],
   "source": [
    "!python example_azure_blob_download_student-2.py"
   ]
  },
  {
   "cell_type": "code",
   "execution_count": 4,
   "metadata": {
    "scrolled": true
   },
   "outputs": [
    {
     "name": "stdout",
     "output_type": "stream",
     "text": [
      "Requirement already satisfied: ibm-watson>=4.7.1 in c:\\users\\sarth\\anaconda3\\lib\\site-packages (6.0.0)\n",
      "Requirement already satisfied: websocket-client==1.1.0 in c:\\users\\sarth\\anaconda3\\lib\\site-packages (from ibm-watson>=4.7.1) (1.1.0)\n",
      "Requirement already satisfied: requests<3.0,>=2.0 in c:\\users\\sarth\\anaconda3\\lib\\site-packages (from ibm-watson>=4.7.1) (2.26.0)\n",
      "Requirement already satisfied: python-dateutil>=2.5.3 in c:\\users\\sarth\\anaconda3\\lib\\site-packages (from ibm-watson>=4.7.1) (2.8.2)\n",
      "Requirement already satisfied: ibm-cloud-sdk-core==3.*,>=3.3.6 in c:\\users\\sarth\\anaconda3\\lib\\site-packages (from ibm-watson>=4.7.1) (3.15.1)\n",
      "Requirement already satisfied: PyJWT<3.0.0,>=2.0.1 in c:\\users\\sarth\\anaconda3\\lib\\site-packages (from ibm-cloud-sdk-core==3.*,>=3.3.6->ibm-watson>=4.7.1) (2.1.0)\n",
      "Requirement already satisfied: urllib3<2.0.0,>=1.26.0 in c:\\users\\sarth\\anaconda3\\lib\\site-packages (from ibm-cloud-sdk-core==3.*,>=3.3.6->ibm-watson>=4.7.1) (1.26.7)\n",
      "Requirement already satisfied: six>=1.5 in c:\\users\\sarth\\anaconda3\\lib\\site-packages (from python-dateutil>=2.5.3->ibm-watson>=4.7.1) (1.16.0)\n",
      "Requirement already satisfied: idna<4,>=2.5 in c:\\users\\sarth\\anaconda3\\lib\\site-packages (from requests<3.0,>=2.0->ibm-watson>=4.7.1) (3.2)\n",
      "Requirement already satisfied: charset-normalizer~=2.0.0 in c:\\users\\sarth\\anaconda3\\lib\\site-packages (from requests<3.0,>=2.0->ibm-watson>=4.7.1) (2.0.4)\n",
      "Requirement already satisfied: certifi>=2017.4.17 in c:\\users\\sarth\\anaconda3\\lib\\site-packages (from requests<3.0,>=2.0->ibm-watson>=4.7.1) (2021.10.8)\n"
     ]
    }
   ],
   "source": [
    "!pip install --upgrade \"ibm-watson>=4.7.1\""
   ]
  },
  {
   "cell_type": "code",
   "execution_count": 1,
   "metadata": {},
   "outputs": [],
   "source": [
    "import json\n",
    "from ibm_watson import NaturalLanguageUnderstandingV1\n",
    "from ibm_cloud_sdk_core.authenticators import IAMAuthenticator\n",
    "from ibm_watson.natural_language_understanding_v1 import Features, SentimentOptions, EntitiesOptions, KeywordsOptions\n",
    "import pandas as pd"
   ]
  },
  {
   "cell_type": "code",
   "execution_count": 2,
   "metadata": {},
   "outputs": [],
   "source": [
    "dataset = pd.read_csv('plugshare-small.csv')"
   ]
  },
  {
   "cell_type": "markdown",
   "metadata": {},
   "source": [
    "#### Create a variable named \"review_data\" and save the dataset to this variable\n",
    "#### Write a line of code that removes the data where \"Review\" value is Nan"
   ]
  },
  {
   "cell_type": "code",
   "execution_count": 3,
   "metadata": {},
   "outputs": [],
   "source": [
    "review_data = dataset.dropna(subset=[\"Review\"])\n",
    "review_data.reset_index(drop=True, inplace=True)"
   ]
  },
  {
   "cell_type": "markdown",
   "metadata": {},
   "source": [
    "#### Write a line of code that shows how many observations are left within the data after removing the Nan \"Review\" values"
   ]
  },
  {
   "cell_type": "code",
   "execution_count": 4,
   "metadata": {},
   "outputs": [
    {
     "data": {
      "text/plain": [
       "6000"
      ]
     },
     "execution_count": 4,
     "metadata": {},
     "output_type": "execute_result"
    }
   ],
   "source": [
    "len(review_data)"
   ]
  },
  {
   "cell_type": "markdown",
   "metadata": {},
   "source": [
    "#### You need to have 6000 observations after removing Nan \"Review\" values"
   ]
  },
  {
   "cell_type": "markdown",
   "metadata": {},
   "source": [
    "#### Fill in your API key and URL and run the cell below\n",
    "#### The code below is made to extract sentiment and score for you"
   ]
  },
  {
   "cell_type": "code",
   "execution_count": 5,
   "metadata": {},
   "outputs": [],
   "source": [
    "# Create sentiment extractor\n",
    "def get_sentiment(input):\n",
    "    authenticator = IAMAuthenticator('1TeVrPCJxGHcGSxsfgq2r9deM60YH2dhoDcEq5dTS5jC')\n",
    "    natural_language_understanding = NaturalLanguageUnderstandingV1(\n",
    "        version='2020-08-01',\n",
    "        authenticator=authenticator\n",
    "    )\n",
    "    \n",
    "    natural_language_understanding.set_service_url('https://gateway.watsonplatform.net/natural-language-understanding/api')\n",
    "                                                   \n",
    "    response = natural_language_understanding.analyze(\n",
    "        text = input,\n",
    "        language = 'en',\n",
    "        features=Features(sentiment=SentimentOptions())).get_result()\n",
    "    \n",
    "    sentiment = response['sentiment']['document']['label']\n",
    "    score = response['sentiment']['document']['score']\n",
    "\n",
    "    return [sentiment, score]"
   ]
  },
  {
   "cell_type": "markdown",
   "metadata": {},
   "source": [
    "#### Running the cell below will create a csv file of the result\n",
    "#### Allow up to one hour to run "
   ]
  },
  {
   "cell_type": "code",
   "execution_count": null,
   "metadata": {
    "scrolled": true
   },
   "outputs": [
    {
     "name": "stdout",
     "output_type": "stream",
     "text": [
      "- Passing reviews to Watson API..\n",
      "- This may take some time as we have thousands of API calls.\n",
      "0\n",
      "1\n",
      "2\n",
      "3\n",
      "4\n"
     ]
    }
   ],
   "source": [
    "# Loop through all rows, and pass each review to Watson API.\n",
    "review_list = []\n",
    "print(\"- Passing reviews to Watson API..\")\n",
    "print(\"- This may take some time as we have thousands of API calls.\")\n",
    "i = 0\n",
    "for review in review_data['Review']:\n",
    "    try:\n",
    "        print(i)\n",
    "        i = i + 1\n",
    "        review_list.append(get_sentiment(review))\n",
    "    except:\n",
    "        review_list.append(['error', 'error'])\n",
    "\n",
    "        \n",
    "# Combine the output from Watson into our original Dataframe\n",
    "review_data['Output'] = pd.Series(review_list).values\n",
    "\n",
    "\n",
    "# UDF to help split [Sentiment, Output] into 2 separate columns\n",
    "def split_output(df):\n",
    "    def get_rating(row):\n",
    "        return row['Output'][0]\n",
    "    def get_score(row):\n",
    "        return row['Output'][1]\n",
    "\n",
    "    df['Rating'] = df.apply(get_rating, axis=1)\n",
    "    df['Score'] = df.apply(get_score, axis=1)\n",
    "    df = df.drop('Output', 1)\n",
    "\n",
    "    return df\n",
    "\n",
    "review_data = split_output(review_data)\n",
    "\n",
    "\n",
    "# Save our dataframe into csv\n",
    "review_data.to_csv('plugshare-processed-sentiment.csv', index=False)\n",
    "print(\"- Output successfully saved!\")"
   ]
  },
  {
   "cell_type": "code",
   "execution_count": null,
   "metadata": {},
   "outputs": [],
   "source": []
  }
 ],
 "metadata": {
  "kernelspec": {
   "display_name": "Python 3 (ipykernel)",
   "language": "python",
   "name": "python3"
  },
  "language_info": {
   "codemirror_mode": {
    "name": "ipython",
    "version": 3
   },
   "file_extension": ".py",
   "mimetype": "text/x-python",
   "name": "python",
   "nbconvert_exporter": "python",
   "pygments_lexer": "ipython3",
   "version": "3.9.7"
  }
 },
 "nbformat": 4,
 "nbformat_minor": 2
}
